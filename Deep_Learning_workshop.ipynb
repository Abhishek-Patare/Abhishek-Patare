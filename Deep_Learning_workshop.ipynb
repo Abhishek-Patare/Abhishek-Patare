{
  "nbformat": 4,
  "nbformat_minor": 0,
  "metadata": {
    "colab": {
      "name": "Deep_Learning_workshop.ipynb",
      "provenance": [],
      "collapsed_sections": [],
      "include_colab_link": true
    },
    "kernelspec": {
      "name": "python3",
      "display_name": "Python 3"
    },
    "accelerator": "GPU",
    "widgets": {
      "application/vnd.jupyter.widget-state+json": {
        "d070a8fec40c4191961b05227771a33c": {
          "model_module": "@jupyter-widgets/controls",
          "model_name": "HBoxModel",
          "state": {
            "_view_name": "HBoxView",
            "_dom_classes": [],
            "_model_name": "HBoxModel",
            "_view_module": "@jupyter-widgets/controls",
            "_model_module_version": "1.5.0",
            "_view_count": null,
            "_view_module_version": "1.5.0",
            "box_style": "",
            "layout": "IPY_MODEL_7132bd81569540c383708214944c1c9e",
            "_model_module": "@jupyter-widgets/controls",
            "children": [
              "IPY_MODEL_a17c3b4b71a542f496174553c23b10f6",
              "IPY_MODEL_031af40f85ab43eca97ec76ec09c88d7"
            ]
          }
        },
        "7132bd81569540c383708214944c1c9e": {
          "model_module": "@jupyter-widgets/base",
          "model_name": "LayoutModel",
          "state": {
            "_view_name": "LayoutView",
            "grid_template_rows": null,
            "right": null,
            "justify_content": null,
            "_view_module": "@jupyter-widgets/base",
            "overflow": null,
            "_model_module_version": "1.2.0",
            "_view_count": null,
            "flex_flow": null,
            "width": null,
            "min_width": null,
            "border": null,
            "align_items": null,
            "bottom": null,
            "_model_module": "@jupyter-widgets/base",
            "top": null,
            "grid_column": null,
            "overflow_y": null,
            "overflow_x": null,
            "grid_auto_flow": null,
            "grid_area": null,
            "grid_template_columns": null,
            "flex": null,
            "_model_name": "LayoutModel",
            "justify_items": null,
            "grid_row": null,
            "max_height": null,
            "align_content": null,
            "visibility": null,
            "align_self": null,
            "height": null,
            "min_height": null,
            "padding": null,
            "grid_auto_rows": null,
            "grid_gap": null,
            "max_width": null,
            "order": null,
            "_view_module_version": "1.2.0",
            "grid_template_areas": null,
            "object_position": null,
            "object_fit": null,
            "grid_auto_columns": null,
            "margin": null,
            "display": null,
            "left": null
          }
        },
        "a17c3b4b71a542f496174553c23b10f6": {
          "model_module": "@jupyter-widgets/controls",
          "model_name": "FloatProgressModel",
          "state": {
            "_view_name": "ProgressView",
            "style": "IPY_MODEL_fcf0685cdefb4aceb74427f449b4a1ec",
            "_dom_classes": [],
            "description": "",
            "_model_name": "FloatProgressModel",
            "bar_style": "success",
            "max": 170498071,
            "_view_module": "@jupyter-widgets/controls",
            "_model_module_version": "1.5.0",
            "value": 170498071,
            "_view_count": null,
            "_view_module_version": "1.5.0",
            "orientation": "horizontal",
            "min": 0,
            "description_tooltip": null,
            "_model_module": "@jupyter-widgets/controls",
            "layout": "IPY_MODEL_a09ac62bd2264a48b2b712352e14269a"
          }
        },
        "031af40f85ab43eca97ec76ec09c88d7": {
          "model_module": "@jupyter-widgets/controls",
          "model_name": "HTMLModel",
          "state": {
            "_view_name": "HTMLView",
            "style": "IPY_MODEL_a886f051398743ac8df12564213066f0",
            "_dom_classes": [],
            "description": "",
            "_model_name": "HTMLModel",
            "placeholder": "​",
            "_view_module": "@jupyter-widgets/controls",
            "_model_module_version": "1.5.0",
            "value": " 170499072/? [00:41&lt;00:00, 4157619.14it/s]",
            "_view_count": null,
            "_view_module_version": "1.5.0",
            "description_tooltip": null,
            "_model_module": "@jupyter-widgets/controls",
            "layout": "IPY_MODEL_ada35a5d3a034e7491ed0a5f445f8cb4"
          }
        },
        "fcf0685cdefb4aceb74427f449b4a1ec": {
          "model_module": "@jupyter-widgets/controls",
          "model_name": "ProgressStyleModel",
          "state": {
            "_view_name": "StyleView",
            "_model_name": "ProgressStyleModel",
            "description_width": "initial",
            "_view_module": "@jupyter-widgets/base",
            "_model_module_version": "1.5.0",
            "_view_count": null,
            "_view_module_version": "1.2.0",
            "bar_color": null,
            "_model_module": "@jupyter-widgets/controls"
          }
        },
        "a09ac62bd2264a48b2b712352e14269a": {
          "model_module": "@jupyter-widgets/base",
          "model_name": "LayoutModel",
          "state": {
            "_view_name": "LayoutView",
            "grid_template_rows": null,
            "right": null,
            "justify_content": null,
            "_view_module": "@jupyter-widgets/base",
            "overflow": null,
            "_model_module_version": "1.2.0",
            "_view_count": null,
            "flex_flow": null,
            "width": null,
            "min_width": null,
            "border": null,
            "align_items": null,
            "bottom": null,
            "_model_module": "@jupyter-widgets/base",
            "top": null,
            "grid_column": null,
            "overflow_y": null,
            "overflow_x": null,
            "grid_auto_flow": null,
            "grid_area": null,
            "grid_template_columns": null,
            "flex": null,
            "_model_name": "LayoutModel",
            "justify_items": null,
            "grid_row": null,
            "max_height": null,
            "align_content": null,
            "visibility": null,
            "align_self": null,
            "height": null,
            "min_height": null,
            "padding": null,
            "grid_auto_rows": null,
            "grid_gap": null,
            "max_width": null,
            "order": null,
            "_view_module_version": "1.2.0",
            "grid_template_areas": null,
            "object_position": null,
            "object_fit": null,
            "grid_auto_columns": null,
            "margin": null,
            "display": null,
            "left": null
          }
        },
        "a886f051398743ac8df12564213066f0": {
          "model_module": "@jupyter-widgets/controls",
          "model_name": "DescriptionStyleModel",
          "state": {
            "_view_name": "StyleView",
            "_model_name": "DescriptionStyleModel",
            "description_width": "",
            "_view_module": "@jupyter-widgets/base",
            "_model_module_version": "1.5.0",
            "_view_count": null,
            "_view_module_version": "1.2.0",
            "_model_module": "@jupyter-widgets/controls"
          }
        },
        "ada35a5d3a034e7491ed0a5f445f8cb4": {
          "model_module": "@jupyter-widgets/base",
          "model_name": "LayoutModel",
          "state": {
            "_view_name": "LayoutView",
            "grid_template_rows": null,
            "right": null,
            "justify_content": null,
            "_view_module": "@jupyter-widgets/base",
            "overflow": null,
            "_model_module_version": "1.2.0",
            "_view_count": null,
            "flex_flow": null,
            "width": null,
            "min_width": null,
            "border": null,
            "align_items": null,
            "bottom": null,
            "_model_module": "@jupyter-widgets/base",
            "top": null,
            "grid_column": null,
            "overflow_y": null,
            "overflow_x": null,
            "grid_auto_flow": null,
            "grid_area": null,
            "grid_template_columns": null,
            "flex": null,
            "_model_name": "LayoutModel",
            "justify_items": null,
            "grid_row": null,
            "max_height": null,
            "align_content": null,
            "visibility": null,
            "align_self": null,
            "height": null,
            "min_height": null,
            "padding": null,
            "grid_auto_rows": null,
            "grid_gap": null,
            "max_width": null,
            "order": null,
            "_view_module_version": "1.2.0",
            "grid_template_areas": null,
            "object_position": null,
            "object_fit": null,
            "grid_auto_columns": null,
            "margin": null,
            "display": null,
            "left": null
          }
        }
      }
    }
  },
  "cells": [
    {
      "cell_type": "markdown",
      "metadata": {
        "id": "view-in-github",
        "colab_type": "text"
      },
      "source": [
        "<a href=\"https://colab.research.google.com/github/Abhishek-Patare/Abhishek-Patare/blob/main/Deep_Learning_workshop.ipynb\" target=\"_parent\"><img src=\"https://colab.research.google.com/assets/colab-badge.svg\" alt=\"Open In Colab\"/></a>"
      ]
    },
    {
      "cell_type": "markdown",
      "metadata": {
        "id": "Ipx-q9QUzhZn"
      },
      "source": [
        "<h2>What is Deep Learning ?</h2>\n",
        "\n",
        "<h4>\n",
        "A deep learning technique learn categories incrementally through it’s hidden layer architecture, defining low-level categories like letters first then little higher level categories like words and then higher level categories like sentences. In the example of image recognition it means identifying light/dark areas before categorizing lines and then shapes to allow face recognition. Each neuron or node in the network represents one aspect of the whole and together they provide a full representation of the image. Each node or hidden layer is given a weight that represents the strength of its relationship with the output and as the model develops the weights are adjusted</h4>\n",
        "<br><br>\n",
        "\n",
        "![](https://miro.medium.com/max/672/1*KYUUg9JC6InYe-VNPMDzAA.png)\n",
        "\n",
        "<br><br><br>\n",
        "\n",
        "<h3>Why Deep Learning over Machine learning ?</h3>\n",
        "\n",
        "![](https://miro.medium.com/max/700/1*mVVglaFUwRz-HkcMlLyvgg.jpeg)\n",
        "\n",
        "<br><br>\n",
        "<h4>In traditional Machine learning techniques, most of the applied features need to be identified by an domain expert in order to reduce the complexity of the data and make patterns more visible to learning algorithms to work. The biggest advantage Deep Learning algorithms as discussed before are that they try to learn high-level features from data in an incremental manner. This eliminates the need of domain expertise and hard core feature extraction.</h4>\n",
        "\n",
        "<br>\n",
        "\n",
        "![](https://miro.medium.com/max/693/1*ZX05x1xYgaVoa4Vn2kKS9g.png)"
      ]
    },
    {
      "cell_type": "markdown",
      "metadata": {
        "id": "dUQIDbrvW24Z"
      },
      "source": [
        "<h1></b>Feed Forward Neural Network on IRIS dataset</b></h1>\n",
        "<br>\n",
        " <h4>The goal of a feedforward network is to approximate some function f*. For example, for a classiﬁer, y = f*(x) maps an input x to a category y. A feedforward network deﬁnes a mapping y = f(x;θ) and learns the value of the parameters θ that result in the best function approximation.\n",
        "These models are called feedforward because information ﬂows through the function being evaluated from x, through the intermediate computations used to deﬁne f, and ﬁnally to the output y. There are no feedback connections in which outputs of the model are fed back into itself.\n",
        "</h4>\n",
        "\n",
        "![Feed Forward Neural Network](https://www.neuraldesigner.com/images/iris-flowers-initial-neural-network.png)\n",
        "\n",
        "\n",
        "<br><br>\n",
        "\n",
        "\n"
      ]
    },
    {
      "cell_type": "markdown",
      "metadata": {
        "id": "J_4wKALgxlvs"
      },
      "source": [
        "<h2>Let's import required libraries and modules</h2>\n",
        "\n",
        "*   Pandas : data analysis and manipulation tool\n",
        "*   Scikit-learn : most useful and robust library for machine learning in Python\n",
        "* Pytorch : An open source machine learning library (mostly used for deep learning models)"
      ]
    },
    {
      "cell_type": "code",
      "metadata": {
        "id": "DHYiti4W3x2H"
      },
      "source": [
        "import pandas as pd\n",
        "from sklearn import datasets\n",
        "from sklearn.model_selection import train_test_split\n",
        "\n",
        "\n",
        "import torch\n",
        "import torch.nn as nn\n",
        "import torch.nn.functional as F"
      ],
      "execution_count": 1,
      "outputs": []
    },
    {
      "cell_type": "markdown",
      "metadata": {
        "id": "0StXYaIneQnK"
      },
      "source": [
        "<h3> Check Device configuration <br> For a basic understanding GPU (Cuda) is faster than CPU in most of the cases</h3>"
      ]
    },
    {
      "cell_type": "code",
      "metadata": {
        "id": "F-PgNNagArw7",
        "colab": {
          "base_uri": "https://localhost:8080/"
        },
        "outputId": "8d1dbbc3-0414-43a0-fe2e-44b2caf4ab79"
      },
      "source": [
        "device = torch.device('cuda' if torch.cuda.is_available() else 'cpu')\n",
        "print(device)"
      ],
      "execution_count": 2,
      "outputs": [
        {
          "output_type": "stream",
          "text": [
            "cuda\n"
          ],
          "name": "stdout"
        }
      ]
    },
    {
      "cell_type": "markdown",
      "metadata": {
        "id": "3Zdj6E4k5wb6"
      },
      "source": [
        "![](https://encrypted-tbn0.gstatic.com/images?q=tbn:ANd9GcQYWL9gqX6qgf1EXUmg855LPsDc3wrGfQ3b3Q&usqp=CAU)"
      ]
    },
    {
      "cell_type": "code",
      "metadata": {
        "id": "hFb9vBB5CRhk",
        "colab": {
          "base_uri": "https://localhost:8080/"
        },
        "outputId": "8e004850-d1ad-4528-deaa-0e4c696fa5fe"
      },
      "source": [
        "iris = datasets.load_iris()\n",
        "data = iris.data\n",
        "labels = iris.target\n",
        "print(iris.feature_names)"
      ],
      "execution_count": 3,
      "outputs": [
        {
          "output_type": "stream",
          "text": [
            "['sepal length (cm)', 'sepal width (cm)', 'petal length (cm)', 'petal width (cm)']\n"
          ],
          "name": "stdout"
        }
      ]
    },
    {
      "cell_type": "code",
      "metadata": {
        "colab": {
          "base_uri": "https://localhost:8080/"
        },
        "id": "1hCkHe3YavUj",
        "outputId": "726d4d8e-0494-4463-d210-65062e8dd64b"
      },
      "source": [
        "print(data.shape)\n",
        "print(labels.shape)"
      ],
      "execution_count": null,
      "outputs": [
        {
          "output_type": "stream",
          "text": [
            "(150, 4)\n",
            "(150,)\n"
          ],
          "name": "stdout"
        }
      ]
    },
    {
      "cell_type": "markdown",
      "metadata": {
        "id": "me9zXimrkr_G"
      },
      "source": [
        "<h3><b>Splitting the dataset into train and test data respectively. We will train our model on training data and will test it on the test data/unseen data</b></h3>"
      ]
    },
    {
      "cell_type": "code",
      "metadata": {
        "id": "I2H7g8OPYzIM"
      },
      "source": [
        "X_train, X_test, Y_train, Y_test = train_test_split(data, labels, test_size=0.33, random_state=42)"
      ],
      "execution_count": 6,
      "outputs": []
    },
    {
      "cell_type": "code",
      "metadata": {
        "colab": {
          "base_uri": "https://localhost:8080/"
        },
        "id": "DlCzpZgai0SY",
        "outputId": "dba03013-3442-4072-a3fd-89d1eb0dfcbf"
      },
      "source": [
        "print(X_train.shape)\n",
        "print(X_test.shape)\n",
        "print(Y_train.shape)\n",
        "print(Y_test.shape)"
      ],
      "execution_count": 7,
      "outputs": [
        {
          "output_type": "stream",
          "text": [
            "(100, 4)\n",
            "(50, 4)\n",
            "(100,)\n",
            "(50,)\n"
          ],
          "name": "stdout"
        }
      ]
    },
    {
      "cell_type": "markdown",
      "metadata": {
        "id": "GkFTWbxScxyp"
      },
      "source": [
        "\n",
        "***Hyperparameters***\n",
        "<br>\n",
        "\n",
        "*   ***input_size*** :  Number of features that our dataset contains. In case of IRIS these are 4 (sepal_length, sepal_width, petal_length, petal_width)\n",
        "*   ***hidden_size***: Number of neurons in the respective hidden layer.\n",
        "\n",
        "*   ***learning rate*** :  controls how quickly the model is adapted to the problem\n",
        "\n",
        "\n",
        "\n",
        "\n"
      ]
    },
    {
      "cell_type": "code",
      "metadata": {
        "id": "slqmjH2-ctcz"
      },
      "source": [
        "#hyperparameters\n",
        "input_size = 4\n",
        "hidden_size = 5\n",
        "learning_rate = 0.1\n",
        "num_epochs = 20\n",
        "num_classes = 3"
      ],
      "execution_count": 8,
      "outputs": []
    },
    {
      "cell_type": "markdown",
      "metadata": {
        "id": "QxpvrtqxjnyP"
      },
      "source": [
        "<h2><b>Defining a simple Feed Forward Neural Network<b></h2>"
      ]
    },
    {
      "cell_type": "code",
      "metadata": {
        "colab": {
          "base_uri": "https://localhost:8080/"
        },
        "id": "vGc9ATxBaoYW",
        "outputId": "7783cbb6-a649-480c-be45-18e86e9bb640"
      },
      "source": [
        "class NeuralNet(nn.Module):\n",
        "    def __init__(self, input_size, hidden_size, num_classes):\n",
        "        super(NeuralNet, self).__init__()\n",
        "        self.fc1 = nn.Linear(input_size, hidden_size)\n",
        "        self.fc2 = nn.Linear(hidden_size, hidden_size)\n",
        "        self.fc3 =  nn.Linear(hidden_size, num_classes)\n",
        "\n",
        "    \n",
        "    def forward(self, x):\n",
        "        out = self.fc1(x)\n",
        "        out = self.fc2(out)\n",
        "        out = self.fc3(out)\n",
        "        return out\n",
        "\n",
        "\n",
        "model = NeuralNet(input_size, hidden_size, num_classes).to(device)\n",
        "model"
      ],
      "execution_count": 9,
      "outputs": [
        {
          "output_type": "execute_result",
          "data": {
            "text/plain": [
              "NeuralNet(\n",
              "  (fc1): Linear(in_features=4, out_features=5, bias=True)\n",
              "  (fc2): Linear(in_features=5, out_features=5, bias=True)\n",
              "  (fc3): Linear(in_features=5, out_features=3, bias=True)\n",
              ")"
            ]
          },
          "metadata": {
            "tags": []
          },
          "execution_count": 9
        }
      ]
    },
    {
      "cell_type": "markdown",
      "metadata": {
        "id": "_GKy4WELm3IA"
      },
      "source": [
        "<h3>Cross Entropy Loss</h3>\n",
        "\n",
        "![](https://miro.medium.com/max/1122/1*KY8QcvVOz1sdUnVKKhxWyA@2x.png)"
      ]
    },
    {
      "cell_type": "code",
      "metadata": {
        "id": "dJXJq2r15M4k"
      },
      "source": [
        "# Loss and optimizer\n",
        "criterion = nn.CrossEntropyLoss()\n",
        "optimizer = torch.optim.Adam(model.parameters(), lr=learning_rate)"
      ],
      "execution_count": 10,
      "outputs": []
    },
    {
      "cell_type": "markdown",
      "metadata": {
        "id": "QDn4ngamlVdW"
      },
      "source": [
        "<h3>Training our Neural Network<h3>\n",
        "<br>\n",
        "<h3>What is Backpropagation ?</h3>\n",
        "<h4>Backpropagation is a short form for \"backward propagation of errors.\" It is a standard method of training artificial neural networks. This method helps to calculate the gradient of a loss function with respects to all the weights in the network.</h4>\n",
        "<br>\n",
        "<h3>How backpropagation works?</h3>\n",
        "\n",
        "![](https://www.guru99.com/images/1/030819_0937_BackPropaga1.png)\n",
        "\n",
        "![lr](https://miro.medium.com/max/1400/1*GTRi-Y2doXbbrc4lGJYH-w.png)"
      ]
    },
    {
      "cell_type": "code",
      "metadata": {
        "colab": {
          "base_uri": "https://localhost:8080/"
        },
        "id": "zj5x3Pda6RTy",
        "outputId": "80b2eb7b-8d9c-42fe-a4f7-ba045276234b"
      },
      "source": [
        "for epoch in range(num_epochs):\n",
        "    \n",
        "    # Move tensors to the configured device\n",
        "    X = torch.FloatTensor(X_train).to(device)\n",
        "    Y = torch.LongTensor(Y_train).to(device)\n",
        "\n",
        "    # Forward pass\n",
        "    out = model(X)\n",
        "    loss = criterion(out, Y)\n",
        "\n",
        "    # Backprpagation and optimization\n",
        "    optimizer.zero_grad()\n",
        "    loss.backward()\n",
        "    optimizer.step()\n",
        "     \n",
        "    acc = 100 * torch.sum(Y==torch.max(out.data, 1)[1]).double() / len(Y)\n",
        "    print ('Epoch [{}/{}] , Loss: {:.4f} , Accuracy: {:.4f}' \n",
        "                   .format(epoch+1, num_epochs , loss.item(), acc.item() ))\n",
        "    "
      ],
      "execution_count": 11,
      "outputs": [
        {
          "output_type": "stream",
          "text": [
            "Epoch [1/20] , Loss: 1.4820 , Accuracy: 34.0000\n",
            "Epoch [2/20] , Loss: 1.2354 , Accuracy: 31.0000\n",
            "Epoch [3/20] , Loss: 1.1456 , Accuracy: 34.0000\n",
            "Epoch [4/20] , Loss: 0.9547 , Accuracy: 40.0000\n",
            "Epoch [5/20] , Loss: 0.9666 , Accuracy: 35.0000\n",
            "Epoch [6/20] , Loss: 0.7554 , Accuracy: 69.0000\n",
            "Epoch [7/20] , Loss: 0.6188 , Accuracy: 67.0000\n",
            "Epoch [8/20] , Loss: 0.5696 , Accuracy: 65.0000\n",
            "Epoch [9/20] , Loss: 0.5227 , Accuracy: 65.0000\n",
            "Epoch [10/20] , Loss: 0.4717 , Accuracy: 65.0000\n",
            "Epoch [11/20] , Loss: 0.4381 , Accuracy: 74.0000\n",
            "Epoch [12/20] , Loss: 0.3983 , Accuracy: 85.0000\n",
            "Epoch [13/20] , Loss: 0.3718 , Accuracy: 86.0000\n",
            "Epoch [14/20] , Loss: 0.3486 , Accuracy: 87.0000\n",
            "Epoch [15/20] , Loss: 0.3181 , Accuracy: 93.0000\n",
            "Epoch [16/20] , Loss: 0.2843 , Accuracy: 97.0000\n",
            "Epoch [17/20] , Loss: 0.2437 , Accuracy: 96.0000\n",
            "Epoch [18/20] , Loss: 0.2021 , Accuracy: 97.0000\n",
            "Epoch [19/20] , Loss: 0.1645 , Accuracy: 97.0000\n",
            "Epoch [20/20] , Loss: 0.1342 , Accuracy: 97.0000\n"
          ],
          "name": "stdout"
        }
      ]
    },
    {
      "cell_type": "markdown",
      "metadata": {
        "id": "rUc5i9SMmGOk"
      },
      "source": [
        "<h3>Evaluating our model on test data</h3>"
      ]
    },
    {
      "cell_type": "code",
      "metadata": {
        "colab": {
          "base_uri": "https://localhost:8080/"
        },
        "id": "alXdZR3t-Lll",
        "outputId": "9c39b042-291e-414d-ff42-9b4b1a54af4e"
      },
      "source": [
        "X_test = torch.FloatTensor(X_test).to(device)\n",
        "Y_test = torch.LongTensor(Y_test).to(device)\n",
        "out = model(X_test)\n",
        "predicted = torch.max(out.data, 1)[1]\n",
        "print('Accuracy of the network %.4f %%' % (100 * torch.sum(Y_test==predicted).double() / len(Y_test)))"
      ],
      "execution_count": 12,
      "outputs": [
        {
          "output_type": "stream",
          "text": [
            "Accuracy of the network 92.0000 %\n"
          ],
          "name": "stdout"
        }
      ]
    },
    {
      "cell_type": "code",
      "metadata": {
        "id": "k0ocD2ZVne51"
      },
      "source": [
        ""
      ],
      "execution_count": null,
      "outputs": []
    },
    {
      "cell_type": "markdown",
      "metadata": {
        "id": "F2RqbO9EnfXf"
      },
      "source": [
        "<h2>Convolutional Neural Network (CNN) on CIFAR-10 Dataset</h2>\n",
        "<br>\n",
        "<h3>Let's understand convolutions</h3>\n",
        "<h4>2D convolution(Image has only 1 channel) : It is a fairly simple operation . You start with a kernel, which is simply a small matrix of weights. This kernel “slides” over the 2D input data, performing an elementwise multiplication with the part of the input it is currently on, and then summing up the results into a single output pixel. The output features are essentially, the weighted sums (with the weights being the values of the kernel itself) of the input features located roughly in the same location of the output pixel on the input layer.</h4>\n",
        "\n",
        "![](https://media2.giphy.com/media/i4NjAwytgIRDW/200.webp?cid=ecf05e47mwezr9hak4lnlm9cenw09d5971wf4gmu5xam7ahz&rid=200.webp)\n",
        "\n",
        "<br> \n",
        "<h4> As we know most of the images have 3 channels(RGB), So how to perform convolution in that case ?<br><br>\n",
        "\n",
        "\n",
        "*   In such a case , we will take number of kernels equal to that of number of channels in the input image and stack them together to make a 3D filter.\n",
        "*   Now instead of a 2D kernel (as in the case of 2D convolution) , our 3D filter (which is multiple kernels stacked) will slide over the 3D input data.\n",
        "\n",
        "*   So using one such filter, we will get 1 channel in the output.\n",
        "*   If we want multiple channels in the output, we have to use multiple 3D filters and concat their outputs, resulting in a 3D output with the number of output channels being the number of filters.\n",
        "\n",
        "\n",
        "\n",
        "\n"
      ]
    },
    {
      "cell_type": "code",
      "metadata": {
        "id": "c9zDWJ51oO7z"
      },
      "source": [
        "import torchvision\n",
        "import torchvision.transforms as transforms"
      ],
      "execution_count": 15,
      "outputs": []
    },
    {
      "cell_type": "markdown",
      "metadata": {
        "id": "SNSsiHGqVBg-"
      },
      "source": [
        "<h4>Batch Size : The batch size is a hyperparameter used in machine learning and refers to the number of training examples utilized in one iteration.\n",
        "<br><br>Mini-batch gradient descent is a variation of the gradient descent algorithm that splits the training dataset into small batches that are used to calculate model error and update model coefficients.</h4>\n"
      ]
    },
    {
      "cell_type": "code",
      "metadata": {
        "id": "kXvfMJp5r7bq"
      },
      "source": [
        "n_epochs = 2\n",
        "batch_size_train = 4\n",
        "batch_size_test = 4\n",
        "learning_rate = 0.001"
      ],
      "execution_count": 16,
      "outputs": []
    },
    {
      "cell_type": "markdown",
      "metadata": {
        "id": "QkbQ117akKap"
      },
      "source": [
        "<h4>CIFAR 10 dataset : 60,000 RGB images (32*32*3 and 6000 each of 10 classes) , out of which  50,000 are for training purpose and 10,000 are for testing purpose.\n",
        "\n",
        "![](https://pytorch.org/tutorials/_images/cifar10.png)"
      ]
    },
    {
      "cell_type": "code",
      "metadata": {
        "colab": {
          "base_uri": "https://localhost:8080/",
          "height": 116,
          "referenced_widgets": [
            "d070a8fec40c4191961b05227771a33c",
            "7132bd81569540c383708214944c1c9e",
            "a17c3b4b71a542f496174553c23b10f6",
            "031af40f85ab43eca97ec76ec09c88d7",
            "fcf0685cdefb4aceb74427f449b4a1ec",
            "a09ac62bd2264a48b2b712352e14269a",
            "a886f051398743ac8df12564213066f0",
            "ada35a5d3a034e7491ed0a5f445f8cb4"
          ]
        },
        "id": "Vo0XQ47bqpOl",
        "outputId": "bea6c73b-58db-4a5c-9f65-3b8ebd856648"
      },
      "source": [
        "transform = transforms.Compose(\n",
        "    [transforms.ToTensor(),\n",
        "     transforms.Normalize((0.5, 0.5, 0.5), (0.5, 0.5, 0.5))])\n",
        "\n",
        "trainset = torchvision.datasets.CIFAR10(root='./data', train=True, download=True, transform=transform)\n",
        "\n",
        "trainloader = torch.utils.data.DataLoader(trainset, batch_size=batch_size_train, shuffle=True, num_workers=2)\n",
        "\n",
        "testset = torchvision.datasets.CIFAR10(root='./data', train=False, download=True, transform=transform)\n",
        "\n",
        "testloader = torch.utils.data.DataLoader(testset, batch_size=batch_size_test,shuffle=False, num_workers=2)\n",
        "\n",
        "classes = ('plane', 'car', 'bird', 'cat',\n",
        "           'deer', 'dog', 'frog', 'horse', 'ship', 'truck')"
      ],
      "execution_count": 17,
      "outputs": [
        {
          "output_type": "stream",
          "text": [
            "Downloading https://www.cs.toronto.edu/~kriz/cifar-10-python.tar.gz to ./data/cifar-10-python.tar.gz\n"
          ],
          "name": "stdout"
        },
        {
          "output_type": "display_data",
          "data": {
            "application/vnd.jupyter.widget-view+json": {
              "model_id": "d070a8fec40c4191961b05227771a33c",
              "version_minor": 0,
              "version_major": 2
            },
            "text/plain": [
              "HBox(children=(FloatProgress(value=0.0, max=170498071.0), HTML(value='')))"
            ]
          },
          "metadata": {
            "tags": []
          }
        },
        {
          "output_type": "stream",
          "text": [
            "\n",
            "Extracting ./data/cifar-10-python.tar.gz to ./data\n",
            "Files already downloaded and verified\n"
          ],
          "name": "stdout"
        }
      ]
    },
    {
      "cell_type": "code",
      "metadata": {
        "colab": {
          "base_uri": "https://localhost:8080/",
          "height": 155
        },
        "id": "f_z62k0-saFe",
        "outputId": "b80ebb3f-599d-4a3b-d5e7-c4338ceff89f"
      },
      "source": [
        "import matplotlib.pyplot as plt\n",
        "import numpy as np\n",
        "\n",
        "# functions to show an image\n",
        "\n",
        "\n",
        "def imshow(img):\n",
        "    img = img / 2 + 0.5     # unnormalize\n",
        "    npimg = img.numpy()\n",
        "    plt.imshow(np.transpose(npimg, (1, 2, 0)))\n",
        "    plt.show()\n",
        "\n",
        "\n",
        "# get some random training images\n",
        "dataiter = iter(trainloader)\n",
        "images, labels = dataiter.next()\n",
        "\n",
        "# show images\n",
        "imshow(torchvision.utils.make_grid(images))\n",
        "# print labels\n",
        "print(' '.join('%5s' % classes[labels[j]] for j in range(4)))"
      ],
      "execution_count": 18,
      "outputs": [
        {
          "output_type": "display_data",
          "data": {
            "image/png": "[encoded data removed]",
            "text/plain": [
              "<Figure size 432x288 with 1 Axes>"
            ]
          },
          "metadata": {
            "tags": [],
            "needs_background": "light"
          }
        },
        {
          "output_type": "stream",
          "text": [
            " deer plane   dog horse\n"
          ],
          "name": "stdout"
        }
      ]
    },
    {
      "cell_type": "markdown",
      "metadata": {
        "id": "DAC0fx7pltd_"
      },
      "source": [
        "<h4>Defining our model"
      ]
    },
    {
      "cell_type": "code",
      "metadata": {
        "id": "P7V4SlPQFU5P"
      },
      "source": [
        "class Net(nn.Module):\n",
        "    def __init__(self):\n",
        "        super(Net, self).__init__()\n",
        "        #(32*32*3) conv (5*5*3)[6 filters] = (28*28*6)\n",
        "        self.conv1 = nn.Conv2d(3, 6, 5) #(in_channels, out_channels, kernel_size )\n",
        "        self.pool = nn.MaxPool2d(2, 2) #(kernel_size, stride)\n",
        "        self.conv2 = nn.Conv2d(6, 16, 5)\n",
        "        self.fc1 = nn.Linear(16 * 5 * 5, 120) \n",
        "        self.fc2 = nn.Linear(120, 84)\n",
        "        self.fc3 = nn.Linear(84, 10)\n",
        "\n",
        "    def forward(self, x):\n",
        "        x = self.pool(F.relu(self.conv1(x)))\n",
        "        x = self.pool(F.relu(self.conv2(x)))\n",
        "        x = x.view(-1, 16 * 5 * 5)\n",
        "        x = F.relu(self.fc1(x))\n",
        "        x = F.relu(self.fc2(x))\n",
        "        x = self.fc3(x)\n",
        "        return x\n",
        "\n",
        "\n",
        "net = Net().to(device)"
      ],
      "execution_count": 19,
      "outputs": []
    },
    {
      "cell_type": "code",
      "metadata": {
        "id": "dBXjMze7F-Be"
      },
      "source": [
        "criterion = nn.CrossEntropyLoss()\n",
        "optimizer = torch.optim.SGD(net.parameters(), lr=learning_rate, momentum=0.9)\n"
      ],
      "execution_count": 20,
      "outputs": []
    },
    {
      "cell_type": "markdown",
      "metadata": {
        "id": "C4ZFH0oTxP_I"
      },
      "source": [
        "<h3>Training the model</h3>"
      ]
    },
    {
      "cell_type": "code",
      "metadata": {
        "colab": {
          "base_uri": "https://localhost:8080/"
        },
        "id": "ngugiijtGDH5",
        "outputId": "5dc7ff76-583c-4a47-f140-63a1239684bf"
      },
      "source": [
        "for epoch in range(n_epochs):  # loop over the dataset multiple times\n",
        "\n",
        "    running_loss = 0.0\n",
        "    for i, data in enumerate(trainloader, 0):\n",
        "        # get the inputs; data is a list of [inputs, labels]\n",
        "        inputs, labels = data\n",
        "        inputs = inputs.to(device)\n",
        "        labels = labels.to(device)\n",
        "\n",
        "        # zero the parameter gradients\n",
        "        optimizer.zero_grad()\n",
        "\n",
        "        # forward + backward + optimize\n",
        "        outputs = net(inputs)\n",
        "        loss = criterion(outputs, labels)\n",
        "        loss.backward()\n",
        "        optimizer.step()\n",
        "\n",
        "        # print statistics\n",
        "        running_loss += loss.item()\n",
        "        if i % 2000 == 1999:    # print every 2000 mini-batches\n",
        "            print('[%d, %5d] loss: %.3f' % (epoch + 1, i + 1, running_loss / 2000))\n",
        "            running_loss = 0.0\n",
        "\n",
        "print('Finished Training')"
      ],
      "execution_count": 21,
      "outputs": [
        {
          "output_type": "stream",
          "text": [
            "[1,  2000] loss: 2.214\n",
            "[1,  4000] loss: 1.864\n",
            "[1,  6000] loss: 1.669\n",
            "[1,  8000] loss: 1.568\n",
            "[1, 10000] loss: 1.528\n",
            "[1, 12000] loss: 1.488\n",
            "[2,  2000] loss: 1.423\n",
            "[2,  4000] loss: 1.386\n",
            "[2,  6000] loss: 1.373\n",
            "[2,  8000] loss: 1.335\n",
            "[2, 10000] loss: 1.293\n",
            "[2, 12000] loss: 1.298\n",
            "Finished Training\n"
          ],
          "name": "stdout"
        }
      ]
    },
    {
      "cell_type": "code",
      "metadata": {
        "colab": {
          "base_uri": "https://localhost:8080/",
          "height": 172
        },
        "id": "KyEKC5KSGXqf",
        "outputId": "b78b9115-b0e4-437e-d1a2-256eecd6154b"
      },
      "source": [
        "dataiter = iter(testloader)\n",
        "images, labels = dataiter.next()\n",
        "\n",
        "# print images\n",
        "imshow(torchvision.utils.make_grid(images))\n",
        "print('GroundTruth: ', ' '.join('%5s' % classes[labels[j]] for j in range(4)))\n",
        "\n",
        "outputs = net(images.to(device))\n",
        "predicted = torch.max(outputs, 1)[1]\n",
        "print('Predicted: ', ' '.join('%5s' % classes[predicted[j]] for j in range(4)))"
      ],
      "execution_count": 23,
      "outputs": [
        {
          "output_type": "display_data",
          "data": {
            "image/png": "[encoded data removed]",
            "text/plain": [
              "<Figure size 432x288 with 1 Axes>"
            ]
          },
          "metadata": {
            "tags": [],
            "needs_background": "light"
          }
        },
        {
          "output_type": "stream",
          "text": [
            "GroundTruth:    cat  ship  ship plane\n",
            "Predicted:    cat  ship  ship  ship\n"
          ],
          "name": "stdout"
        }
      ]
    },
    {
      "cell_type": "markdown",
      "metadata": {
        "id": "DOUCKSL0yMOn"
      },
      "source": [
        "<h4>Evaluating on test data</h4>"
      ]
    },
    {
      "cell_type": "code",
      "metadata": {
        "colab": {
          "base_uri": "https://localhost:8080/"
        },
        "id": "tEYOaXWFG4D8",
        "outputId": "67bff33c-2fe7-4b61-dff2-8688ce1cbf67"
      },
      "source": [
        "correct = 0\n",
        "total = 0\n",
        "with torch.no_grad():\n",
        "    for data in testloader:\n",
        "        images, labels = data\n",
        "        images = images.to(device)\n",
        "        labels = labels.to(device)\n",
        "        outputs = net(images)\n",
        "        _, predicted = torch.max(outputs.data, 1)\n",
        "        total += labels.size(0)\n",
        "        correct += (predicted == labels).sum().item()\n",
        "\n",
        "print('Accuracy of the network on the 10000 test images: %d %%' % (\n",
        "    100 * correct / total))"
      ],
      "execution_count": 24,
      "outputs": [
        {
          "output_type": "stream",
          "text": [
            "Accuracy of the network on the 10000 test images: 52 %\n"
          ],
          "name": "stdout"
        }
      ]
    },
    {
      "cell_type": "markdown",
      "metadata": {
        "id": "NJDxTzOeypk5"
      },
      "source": [
        "<h4>Individual class accuracy</h4>"
      ]
    },
    {
      "cell_type": "code",
      "metadata": {
        "colab": {
          "base_uri": "https://localhost:8080/"
        },
        "id": "fuU4ksiyG837",
        "outputId": "f2ce37a8-66bc-48bb-a3b6-b59ed87a3944"
      },
      "source": [
        "class_correct = list(0. for i in range(10))\n",
        "class_total = list(0. for i in range(10))\n",
        "with torch.no_grad():\n",
        "    for data in testloader:\n",
        "        images, labels = data\n",
        "        images = images.to(device)\n",
        "        labels = labels.to(device)\n",
        "        outputs = net(images)\n",
        "        _, predicted = torch.max(outputs, 1)\n",
        "        c = (predicted == labels).squeeze()\n",
        "        for i in range(4):\n",
        "            label = labels[i]\n",
        "            class_correct[label] += c[i].item()\n",
        "            class_total[label] += 1\n",
        "\n",
        "\n",
        "for i in range(10):\n",
        "    print('Accuracy of %5s : %2d %%' % (\n",
        "        classes[i], 100 * class_correct[i] / class_total[i]))"
      ],
      "execution_count": 25,
      "outputs": [
        {
          "output_type": "stream",
          "text": [
            "Accuracy of plane : 55 %\n",
            "Accuracy of   car : 67 %\n",
            "Accuracy of  bird : 48 %\n",
            "Accuracy of   cat : 39 %\n",
            "Accuracy of  deer : 36 %\n",
            "Accuracy of   dog : 58 %\n",
            "Accuracy of  frog : 42 %\n",
            "Accuracy of horse : 51 %\n",
            "Accuracy of  ship : 77 %\n",
            "Accuracy of truck : 46 %\n"
          ],
          "name": "stdout"
        }
      ]
    },
    {
      "cell_type": "code",
      "metadata": {
        "id": "dAdqQGkvHEKh"
      },
      "source": [
        ""
      ],
      "execution_count": null,
      "outputs": []
    }
  ]
}